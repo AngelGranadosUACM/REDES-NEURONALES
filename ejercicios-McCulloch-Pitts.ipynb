{
 "cells": [
  {
   "cell_type": "markdown",
   "metadata": {},
   "source": [
    "### Primer ejercicio"
   ]
  },
  {
   "cell_type": "code",
   "execution_count": 13,
   "metadata": {},
   "outputs": [
    {
     "name": "stdout",
     "output_type": "stream",
     "text": [
      "[25 41]\n",
      "[26 43]\n",
      "[1 1]\n"
     ]
    }
   ],
   "source": [
    "import numpy as np\n",
    "\n",
    "x=np.array([1,2,5])\n",
    "b=np.array([1,2])\n",
    "m=np.array([[3,1,4],\n",
    "            [2,7,5]])\n",
    "\n",
    "transpuesta=m.T\n",
    "\n",
    "ponderacion= np.dot(x, transpuesta)\n",
    "\n",
    "print(ponderacion)\n",
    "\n",
    "z=ponderacion+b\n",
    "\n",
    "print(z)\n",
    "\n",
    "def activa(z):\n",
    "    return np.where(z>=0, 1,0)\n",
    "\n",
    "y=activa(z)\n",
    "\n",
    "print(y)"
   ]
  },
  {
   "cell_type": "code",
   "execution_count": 1,
   "metadata": {},
   "outputs": [],
   "source": [
    "import numpy as np\n",
    "\n",
    "class McCullochPittsNeuron:\n",
    "    def __init__(self, weights, threshold):\n",
    "        self.weights = np.array(weights)\n",
    "        self.threshold = threshold\n",
    "\n",
    "    def activate(self, inputs):\n",
    "        # Calcula la suma ponderada de las entradas\n",
    "        total_input = np.dot(self.weights, inputs)\n",
    "        # Devuelve 1 si la suma es mayor o igual que el umbral, si no 0\n",
    "        return 1 if total_input >= self.threshold else 0\n",
    "\n",
    "# Función para la operación AND con 3 variables\n",
    "def AND_neuron():\n",
    "    # Pesos y umbral para la función AND con 3 entradas\n",
    "    weights = [1, 1, 1]\n",
    "    threshold = 3  # Todas las entradas deben ser 1 para alcanzar el umbral\n",
    "    return McCullochPittsNeuron(weights, threshold)\n",
    "\n",
    "# Función para la operación OR con 3 variables\n",
    "def OR_neuron():\n",
    "    # Pesos y umbral para la función OR con 3 entradas\n",
    "    weights = [1, 1, 1]\n",
    "    threshold = 1  # Solo una entrada debe ser 1 para alcanzar el um\n"
   ]
  },
  {
   "cell_type": "markdown",
   "metadata": {},
   "source": [
    "### Ejercicio 2"
   ]
  },
  {
   "cell_type": "code",
   "execution_count": null,
   "metadata": {},
   "outputs": [],
   "source": [
    "import numpy as np\n",
    "\n",
    "class McCullochPittsNeuron:\n",
    "    def __init__(self, weights, threshold):\n",
    "        self.weights = np.array(weights)\n",
    "        self.threshold = threshold\n",
    "\n",
    "    def activate(self, inputs):\n",
    "        # Calcula la suma ponderada de las entradas\n",
    "        total_input = np.dot(self.weights, inputs)\n",
    "        # Devuelve 1 si la suma es mayor o igual que el umbral, si no 0\n",
    "        return 1 if total_input >= self.threshold else 0\n",
    "\n",
    "# Matriz que representa la letra \"T\" en una imagen 10x10\n",
    "T_matrix = [\n",
    "    1, 1, 1, 1, 1, 1, 1, 1, 1, 1,\n",
    "    0, 0, 0, 0, 1, 1, 0, 0, 0, 0,\n",
    "    0, 0, 0, 0, 1, 1, 0, 0, 0, 0,\n",
    "    0, 0, 0, 0, 1, 1, 0, 0, 0, 0,\n",
    "    0, 0, 0, 0, 1, 1, 0, 0, 0, 0,\n",
    "    0, 0, 0, 0, 1, 1, 0, 0, 0, 0,\n",
    "    0, 0, 0, 0, 1, 1, 0, 0, 0, 0,\n",
    "    0, 0, 0, 0, 1, 1, 0, 0, 0, 0,\n",
    "    0, 0, 0, 0, 1, 1, 0, 0, 0, 0,\n",
    "    0, 0, 0, 0, 1, 1, 0, 0, 0, 0\n",
    "]\n",
    "\n",
    "# Crear la neurona para reconocer la letra \"T\"\n",
    "def create_T_recognizing_neuron():\n",
    "    # Pesos que corresponden a la matriz de la letra \"T\"\n",
    "    weights = T_matrix\n",
    "    # Umbral que corresponde a la cantidad de píxeles \"oscuros\" en la letra \"T\"\n",
    "    threshold = sum(T_matrix) * 0.9  # El umbral es el 90% de los píxeles que forman la \"T\"\n",
    "    return McCullochPittsNeuron(weights, threshold)\n",
    "\n",
    "# Crear la neurona\n",
    "t_neuron = create_T_recognizing_neuron()\n",
    "\n",
    "# Ejemplo de imagen que contiene la letra \"T\" (misma que la definida)\n",
    "test_image = [\n",
    "    1, 1, 1, 1, 1, 1, 1, 1, 1, 1,\n",
    "    0, 0, 0, 0, 1, 1, 0, 0, 0, 0,\n",
    "    0, 0, 0, 0, 1, 1, 0, 0, 0, 0,\n",
    "    0, 0, 0, 0, 1, 1, 0, 0, 0, 0,\n",
    "    0, 0, 0, 0, 1, 1, 0, 0, 0, 0,\n",
    "    0, 0, 0, 0, 1, 1, 0, 0, 0, 0,\n",
    "    0, 0, 0, 0, 1, 1, 0, 0, 0, 0,\n",
    "    0, 0, 0, 0, 1, 1, 0, 0, 0, 0,\n",
    "    0, 0, 0, 0, 1, 1, 0, 0, 0, 0,\n",
    "    0, 0, 0, 0, 1, 1, 0, 0, 0, 0\n",
    "]\n",
    "\n",
    "# Prueba de reconocimiento\n",
    "output = t_neuron.activate(test_image)\n",
    "print(f\"¿La imagen contiene una 'T'? {'Sí' if output == 1 else 'No'}\")\n"
   ]
  }
 ],
 "metadata": {
  "kernelspec": {
   "display_name": "PT",
   "language": "python",
   "name": "python3"
  },
  "language_info": {
   "codemirror_mode": {
    "name": "ipython",
    "version": 3
   },
   "file_extension": ".py",
   "mimetype": "text/x-python",
   "name": "python",
   "nbconvert_exporter": "python",
   "pygments_lexer": "ipython3",
   "version": "3.12.4"
  }
 },
 "nbformat": 4,
 "nbformat_minor": 2
}
