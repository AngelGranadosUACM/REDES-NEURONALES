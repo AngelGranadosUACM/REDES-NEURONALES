{
 "cells": [
  {
   "cell_type": "code",
   "execution_count": 3,
   "metadata": {},
   "outputs": [],
   "source": [
    "#RECUERDA DESACTIVAR CONDA CON conda deactivate\n",
    "#IDENTACION O SANGRIAS NO LAS OLVIDES"
   ]
  },
  {
   "cell_type": "code",
   "execution_count": null,
   "metadata": {},
   "outputs": [],
   "source": [
    "#---------------------------------------------------- EJERCICIO 1 -----------------------------------------------------------------------------"
   ]
  },
  {
   "cell_type": "code",
   "execution_count": 2,
   "metadata": {},
   "outputs": [],
   "source": [
    "class Persona:\n",
    "    def __init__(self, nombre, edad):\n",
    "        self.nombre = nombre\n",
    "        self.edad = edad\n",
    "\n",
    "\n",
    "\n",
    "    def me_llamo(self):\n",
    "        print(\"Me llamo {}\".format(self.nombre)+ \" y mi edad es {}\".format(self.edad))\n"
   ]
  },
  {
   "cell_type": "code",
   "execution_count": 3,
   "metadata": {},
   "outputs": [
    {
     "name": "stdout",
     "output_type": "stream",
     "text": [
      "Me llamo juan y mi edad es 22\n"
     ]
    }
   ],
   "source": [
    "persona1 =Persona('juan',22)\n",
    "persona1.me_llamo()"
   ]
  },
  {
   "cell_type": "code",
   "execution_count": 4,
   "metadata": {},
   "outputs": [],
   "source": [
    "class Estudiante(Persona):\n",
    "    def __init__(self, nombre, edad, curso):\n",
    "        super().__init__(nombre, edad) #llamamos al padre\n",
    "        self.curso=curso #guarda el estado del curso para la nueva clase\n",
    "\n",
    "    def estudio_en(self):\n",
    "        print(\"Estudio en {}\".format(self.curso))"
   ]
  },
  {
   "cell_type": "code",
   "execution_count": 5,
   "metadata": {},
   "outputs": [
    {
     "name": "stdout",
     "output_type": "stream",
     "text": [
      "Estudio en uacm\n",
      "Me llamo Juan y mi edad es 22\n"
     ]
    }
   ],
   "source": [
    "estudiante1=Estudiante('Juan',22, 'uacm')\n",
    "estudiante1.estudio_en()\n",
    "estudiante1.me_llamo()"
   ]
  },
  {
   "cell_type": "code",
   "execution_count": null,
   "metadata": {},
   "outputs": [],
   "source": [
    "#--------------------------------------EJERCICIO 2 ----------------------------------------------------------------------------"
   ]
  },
  {
   "cell_type": "code",
   "execution_count": 7,
   "metadata": {},
   "outputs": [],
   "source": [
    "class Animal:\n",
    "    \n",
    "\n",
    "    def hacer_sonido():\n",
    "       pass"
   ]
  },
  {
   "cell_type": "code",
   "execution_count": 8,
   "metadata": {},
   "outputs": [],
   "source": [
    "class Perro(Animal):\n",
    "    def __init__(self):\n",
    "        super().__init__()\n",
    "\n",
    "    def hacer_sonido(self):\n",
    "        print('guau!')"
   ]
  },
  {
   "cell_type": "code",
   "execution_count": 9,
   "metadata": {},
   "outputs": [
    {
     "name": "stdout",
     "output_type": "stream",
     "text": [
      "guau!\n"
     ]
    }
   ],
   "source": [
    "perro1= Perro()\n",
    "perro1.hacer_sonido()"
   ]
  },
  {
   "cell_type": "code",
   "execution_count": 10,
   "metadata": {},
   "outputs": [],
   "source": [
    "class Gato(Animal):\n",
    "    def __init__(self):\n",
    "        super().__init__()\n",
    "    \n",
    "    def hacer_sonido(self):\n",
    "        print('miau miau')"
   ]
  },
  {
   "cell_type": "code",
   "execution_count": 11,
   "metadata": {},
   "outputs": [
    {
     "name": "stdout",
     "output_type": "stream",
     "text": [
      "miau miau\n"
     ]
    }
   ],
   "source": [
    "gato1= Gato()\n",
    "gato1.hacer_sonido()"
   ]
  },
  {
   "cell_type": "code",
   "execution_count": null,
   "metadata": {},
   "outputs": [],
   "source": [
    "#------------------------------------------------------- EJERCICIO 3 --------------------------------------------------------------------------"
   ]
  },
  {
   "cell_type": "code",
   "execution_count": 31,
   "metadata": {},
   "outputs": [],
   "source": [
    "class cuentaBancaria:\n",
    "    def __init__(self, titular, saldo):\n",
    "        self.titular=titular\n",
    "        self.saldo=saldo\n",
    "\n",
    "    def depositar(self, cantidad):\n",
    "        if cantidad > 0:\n",
    "            self.saldo+= cantidad\n",
    "            print(\"Se deposito {}\".format(cantidad) +  \" su saldo actual: {}\".format(self.saldo))\n",
    "        else:\n",
    "            print(\"Debe ser positivo\")\n",
    "\n",
    "    \n",
    "    def retirar(self, cantidad):\n",
    "        if cantidad > 0:\n",
    "            if cantidad <= self.saldo:\n",
    "                self.saldo -= cantidad\n",
    "                print(\"Se retiro {}\".format(cantidad) + \" y tu saldo actual es: {}\".format(self.saldo))\n",
    "            else:\n",
    "                print(\"fondo insuficiente\")\n",
    "        else:\n",
    "            print(\"ingresa cantidades positivas porfi\")\n",
    "\n",
    "\n",
    "    def mostrar_saldo(self):\n",
    "        print(\"saldo: {}\".format(self.saldo))\n",
    "\n",
    "\n",
    "    def __str__(self):\n",
    "        #print(\"Hola!! {}\".format(self.titular) + \" Su saldo es: {}\".format(self.saldo))\n",
    "        return \"Hola!! {}\".format(self.titular) + \" Su saldo es: {}\".format(self.saldo)"
   ]
  },
  {
   "cell_type": "code",
   "execution_count": 32,
   "metadata": {},
   "outputs": [
    {
     "name": "stdout",
     "output_type": "stream",
     "text": [
      "Se deposito 10 su saldo actual: 11\n",
      "saldo: 11\n",
      "Se retiro 1 y tu saldo actual es: 10\n",
      "Se retiro 2 y tu saldo actual es: 8\n"
     ]
    }
   ],
   "source": [
    "#usandolo\n",
    "cuenta = cuentaBancaria(\"Juan Perez\", 1)\n",
    "#realizamos operaciones\n",
    "cuenta.depositar(10)\n",
    "cuenta.mostrar_saldo()\n",
    "cuenta.retirar(1)\n",
    "cuenta.__str__()\n",
    "cuenta.retirar(2)"
   ]
  },
  {
   "cell_type": "code",
   "execution_count": null,
   "metadata": {},
   "outputs": [],
   "source": [
    "#--------------------------------EJERCICIO 4 -----------------------------------------------------------"
   ]
  },
  {
   "cell_type": "code",
   "execution_count": 5,
   "metadata": {},
   "outputs": [],
   "source": [
    "class Vehiculo:\n",
    "    def __init__(self, marca, modelo, anio, color):\n",
    "        self.marca=marca\n",
    "        self.modelo=modelo\n",
    "        self.anio=anio\n",
    "        self.color=color\n",
    "\n",
    "    def arranchar(self):\n",
    "        print('el coche arranca generico')\n",
    "\n",
    "    def detener(self):\n",
    "        print('el coche detiene generico')\n",
    "\n",
    "    def __str__(self): \n",
    "        print(\"La marca es: {}\".format(self.marca) + \"El modelo es: {}\".format(self.modelo) + \"El anio es: {}\".format(self.anio) + \"EL color es: {}\".format(self.color))\n",
    "        "
   ]
  },
  {
   "cell_type": "code",
   "execution_count": 38,
   "metadata": {},
   "outputs": [],
   "source": [
    "class Coche(Vehiculo):\n",
    "    def __init__(self, marca, modelo, anio, color, puertas):\n",
    "        super().__init__(marca, modelo, anio, color)\n",
    "        self.puertas=puertas\n",
    "\n",
    "    def abrir_maletero(self):\n",
    "        print('El maletero esta abierto')\n",
    "\n",
    "    def arranchar(self):\n",
    "        print('el coche arranca')\n",
    "\n",
    "    "
   ]
  },
  {
   "cell_type": "code",
   "execution_count": 41,
   "metadata": {},
   "outputs": [],
   "source": [
    "class Moto(Vehiculo):\n",
    "    def __init__(self, marca, modelo, anio, color, tipo):\n",
    "        super().__init__(marca, modelo, anio, color)\n",
    "        self.tipo=tipo\n",
    "\n",
    "    def hacer_caballito(self):\n",
    "        print(\"la moto hace caballito\")\n",
    "\n",
    "    def arranchar(self):\n",
    "        print('la moto arranca')"
   ]
  },
  {
   "cell_type": "code",
   "execution_count": 42,
   "metadata": {},
   "outputs": [],
   "source": [
    "class Camion(Vehiculo):\n",
    "\n",
    "    #capacidad_carga=0\n",
    "\n",
    "    def __init__(self, marca, modelo, anio, color, capacidad_carga):\n",
    "        super().__init__(marca, modelo, anio, color)\n",
    "        self.capacidad_carga=capacidad_carga\n",
    "\n",
    "    def cargar(self, peso):\n",
    "        if peso < self.capacidad_carga:\n",
    "            print('excelente se agrego la carga')\n",
    "\n",
    "        else:\n",
    "            print('no se puede cargar')  \n",
    "\n",
    "    def arranchar(self):\n",
    "        print('el camion arranca')"
   ]
  },
  {
   "cell_type": "code",
   "execution_count": 48,
   "metadata": {},
   "outputs": [
    {
     "name": "stdout",
     "output_type": "stream",
     "text": [
      "El maletero esta abierto\n",
      "la moto hace caballito\n",
      "excelente se agrego la carga\n",
      "no se puede cargar\n",
      "el coche arranca\n",
      "la moto arranca\n",
      "el camion arranca\n"
     ]
    }
   ],
   "source": [
    "#INSTANCIANDO OBJETOS\n",
    "\n",
    "coche1=Coche('Marca1', 'Modelo1',2099, 'color1', 4)\n",
    "\n",
    "moto1=Moto('Marca2', 'Modelo2', 2091, 'color2', 'Moto')\n",
    "\n",
    "camion1=Camion('Marca3', 'Modelo3',2092, 'color3', 10)\n",
    "\n",
    "#MOSTRANDO SU FUNCIONAMIENTO\n",
    "\n",
    "coche1.abrir_maletero()\n",
    "moto1.hacer_caballito()\n",
    "camion1.cargar(2)\n",
    "camion1.cargar(12)\n",
    "\n",
    "#ARRANCAR\n",
    "coche1.arranchar()\n",
    "moto1.arranchar()\n",
    "camion1.arranchar()"
   ]
  }
 ],
 "metadata": {
  "kernelspec": {
   "display_name": "PT",
   "language": "python",
   "name": "python3"
  },
  "language_info": {
   "codemirror_mode": {
    "name": "ipython",
    "version": 3
   },
   "file_extension": ".py",
   "mimetype": "text/x-python",
   "name": "python",
   "nbconvert_exporter": "python",
   "pygments_lexer": "ipython3",
   "version": "3.12.4"
  }
 },
 "nbformat": 4,
 "nbformat_minor": 2
}
