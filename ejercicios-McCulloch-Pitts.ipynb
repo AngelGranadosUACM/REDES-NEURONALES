{
 "cells": [
  {
   "cell_type": "markdown",
   "metadata": {},
   "source": [
    "### Primer ejercicio"
   ]
  },
  {
   "cell_type": "code",
   "execution_count": 13,
   "metadata": {},
   "outputs": [
    {
     "name": "stdout",
     "output_type": "stream",
     "text": [
      "[25 41]\n",
      "[26 43]\n",
      "[1 1]\n"
     ]
    }
   ],
   "source": [
    "import numpy as np\n",
    "\n",
    "x=np.array([1,2,5])\n",
    "b=np.array([1,2])\n",
    "m=np.array([[3,1,4],\n",
    "            [2,7,5]])\n",
    "\n",
    "transpuesta=m.T\n",
    "\n",
    "ponderacion= np.dot(x, transpuesta)\n",
    "\n",
    "print(ponderacion)\n",
    "\n",
    "z=ponderacion+b\n",
    "\n",
    "print(z)\n",
    "\n",
    "def activa(z):\n",
    "    return np.where(z>=0, 1,0)\n",
    "\n",
    "y=activa(z)\n",
    "\n",
    "print(y)"
   ]
  },
  {
   "cell_type": "code",
   "execution_count": 1,
   "metadata": {},
   "outputs": [
    {
     "ename": "ModuleNotFoundError",
     "evalue": "No module named 'numpy'",
     "output_type": "error",
     "traceback": [
      "\u001b[1;31m---------------------------------------------------------------------------\u001b[0m",
      "\u001b[1;31mModuleNotFoundError\u001b[0m                       Traceback (most recent call last)",
      "Cell \u001b[1;32mIn[1], line 1\u001b[0m\n\u001b[1;32m----> 1\u001b[0m \u001b[38;5;28;01mimport\u001b[39;00m \u001b[38;5;21;01mnumpy\u001b[39;00m \u001b[38;5;28;01mas\u001b[39;00m \u001b[38;5;21;01mnp\u001b[39;00m\n\u001b[0;32m      3\u001b[0m \u001b[38;5;28;01mclass\u001b[39;00m \u001b[38;5;21;01mMcCullochPittsNeuron\u001b[39;00m:\n\u001b[0;32m      4\u001b[0m     \u001b[38;5;28;01mdef\u001b[39;00m \u001b[38;5;21m__init__\u001b[39m(\u001b[38;5;28mself\u001b[39m, weights, threshold):\n",
      "\u001b[1;31mModuleNotFoundError\u001b[0m: No module named 'numpy'"
     ]
    }
   ],
   "source": [
    "import numpy as np\n",
    "\n",
    "class McCullochPittsNeuron:\n",
    "    def __init__(self, weights, threshold):\n",
    "        self.weights = np.array(weights)\n",
    "        self.threshold = threshold\n",
    "\n",
    "    def activate(self, inputs):\n",
    "        # Calcula la suma ponderada de las entradas\n",
    "        total_input = np.dot(self.weights, inputs)\n",
    "        # Devuelve 1 si la suma es mayor o igual que el umbral, si no 0\n",
    "        return 1 if total_input >= self.threshold else 0\n",
    "\n",
    "# Función para la operación AND con 3 variables\n",
    "def AND_neuron():\n",
    "    # Pesos y umbral para la función AND con 3 entradas\n",
    "    weights = [1, 1, 1]\n",
    "    threshold = 3  # Todas las entradas deben ser 1 para alcanzar el umbral\n",
    "    return McCullochPittsNeuron(weights, threshold)\n",
    "\n",
    "# Función para la operación OR con 3 variables\n",
    "def OR_neuron():\n",
    "    # Pesos y umbral para la función OR con 3 entradas\n",
    "    weights = [1, 1, 1]\n",
    "    threshold = 1  # Solo una entrada debe ser 1 para alcanzar el um\n"
   ]
  },
  {
   "cell_type": "markdown",
   "metadata": {},
   "source": [
    "### Ejercicio 2"
   ]
  },
  {
   "cell_type": "code",
   "execution_count": null,
   "metadata": {},
   "outputs": [],
   "source": []
  }
 ],
 "metadata": {
  "kernelspec": {
   "display_name": "PT",
   "language": "python",
   "name": "python3"
  },
  "language_info": {
   "codemirror_mode": {
    "name": "ipython",
    "version": 3
   },
   "file_extension": ".py",
   "mimetype": "text/x-python",
   "name": "python",
   "nbconvert_exporter": "python",
   "pygments_lexer": "ipython3",
   "version": "3.8.5"
  }
 },
 "nbformat": 4,
 "nbformat_minor": 2
}
