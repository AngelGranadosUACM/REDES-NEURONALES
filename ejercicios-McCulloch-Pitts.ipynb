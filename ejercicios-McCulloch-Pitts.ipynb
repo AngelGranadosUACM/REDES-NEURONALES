{
 "cells": [
  {
   "cell_type": "markdown",
   "metadata": {},
   "source": [
    "### Primer ejercicio"
   ]
  },
  {
   "cell_type": "code",
   "execution_count": 13,
   "metadata": {},
   "outputs": [
    {
     "name": "stdout",
     "output_type": "stream",
     "text": [
      "[25 41]\n",
      "[26 43]\n",
      "[1 1]\n"
     ]
    }
   ],
   "source": [
    "import numpy as np\n",
    "\n",
    "x=np.array([1,2,5])\n",
    "b=np.array([1,2])\n",
    "m=np.array([[3,1,4],\n",
    "            [2,7,5]])\n",
    "\n",
    "transpuesta=m.T\n",
    "\n",
    "ponderacion= np.dot(x, transpuesta)\n",
    "\n",
    "print(ponderacion)\n",
    "\n",
    "z=ponderacion+b\n",
    "\n",
    "print(z)\n",
    "\n",
    "def activa(z):\n",
    "    return np.where(z>=0, 1,0)\n",
    "\n",
    "y=activa(z)\n",
    "\n",
    "print(y)"
   ]
  },
  {
   "cell_type": "markdown",
   "metadata": {},
   "source": [
    "### Ejercicio 2"
   ]
  },
  {
   "cell_type": "code",
   "execution_count": null,
   "metadata": {},
   "outputs": [],
   "source": []
  }
 ],
 "metadata": {
  "kernelspec": {
   "display_name": "PT",
   "language": "python",
   "name": "python3"
  },
  "language_info": {
   "codemirror_mode": {
    "name": "ipython",
    "version": 3
   },
   "file_extension": ".py",
   "mimetype": "text/x-python",
   "name": "python",
   "nbconvert_exporter": "python",
   "pygments_lexer": "ipython3",
   "version": "3.12.4"
  }
 },
 "nbformat": 4,
 "nbformat_minor": 2
}
