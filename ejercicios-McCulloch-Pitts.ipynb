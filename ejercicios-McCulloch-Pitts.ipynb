{
 "cells": [
  {
   "cell_type": "markdown",
   "metadata": {},
   "source": [
    "### Primer ejercicio\n",
    "\n",
    "![imagen](ejercio1.png \"ejercicio uno\") ![imagen](ejercio2.png \"ejercicio uno\") "
   ]
  },
  {
   "cell_type": "code",
   "execution_count": 40,
   "metadata": {},
   "outputs": [
    {
     "name": "stdout",
     "output_type": "stream",
     "text": [
      "[25 41]\n",
      "[26 43]\n",
      "[1 1]\n"
     ]
    }
   ],
   "source": [
    "import numpy as np\n",
    "\n",
    "x=np.array([1,2,5]) # vectores de entrada\n",
    "b=np.array([1,2])  ##ballas\n",
    "m=np.array([[3,1,4], ##matriz de pesos\n",
    "            [2,7,5]])\n",
    "\n",
    "transpuesta=m.T\n",
    "\n",
    "ponderacion= np.dot(x, transpuesta)\n",
    "\n",
    "print(ponderacion)\n",
    "\n",
    "z=ponderacion+b\n",
    "\n",
    "print(z)\n",
    "\n",
    "def activa(z):\n",
    "    return np.where(z>=0, 1,0)\n",
    "\n",
    "y=activa(z)\n",
    "\n",
    "print(y)"
   ]
  },
  {
   "cell_type": "markdown",
   "metadata": {},
   "source": [
    "### Ejercicio 2\n",
    "\n",
    "![imagen](ejercio22.png \"ejercicio uno\") ![imagen](ejercio23.PNG \"ejercicio uno\") ![imagen](ejercio24.PNG \"ejercicio uno\") "
   ]
  },
  {
   "cell_type": "code",
   "execution_count": 42,
   "metadata": {},
   "outputs": [
    {
     "name": "stdout",
     "output_type": "stream",
     "text": [
      "[[14 13  6]\n",
      " [21 20  9]\n",
      " [15 22 11]]\n"
     ]
    }
   ],
   "source": [
    "import numpy as np\n",
    "# vectores de entrada x\n",
    "x=np.array([[1,2],\n",
    "            [2,3],\n",
    "            [4,1]])\n",
    "# ballas b\n",
    "b=np.array([2,3,2])\n",
    "# matriz de pesos w\n",
    "m=np.array([[2,5],\n",
    "            [4,3],\n",
    "            [2,1]])\n",
    "\n",
    "\n",
    "trans=m.T\n",
    "\n",
    "ponde= np.dot(x, trans)\n",
    "\n",
    "z=ponde+b\n",
    "\n",
    "print(z)\n",
    "\n",
    "\n",
    "\n"
   ]
  }
 ],
 "metadata": {
  "kernelspec": {
   "display_name": "PT",
   "language": "python",
   "name": "python3"
  },
  "language_info": {
   "codemirror_mode": {
    "name": "ipython",
    "version": 3
   },
   "file_extension": ".py",
   "mimetype": "text/x-python",
   "name": "python",
   "nbconvert_exporter": "python",
   "pygments_lexer": "ipython3",
   "version": "3.12.4"
  }
 },
 "nbformat": 4,
 "nbformat_minor": 2
}
